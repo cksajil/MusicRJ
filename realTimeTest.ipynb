{
 "cells": [
  {
   "cell_type": "markdown",
   "metadata": {},
   "source": [
    "#### Import Libraries"
   ]
  },
  {
   "cell_type": "code",
   "execution_count": 47,
   "metadata": {},
   "outputs": [],
   "source": [
    "import os\n",
    "import wave\n",
    "import keras\n",
    "import pyaudio\n",
    "import numpy as np\n",
    "import pandas as pd\n",
    "import tensorflow as tf\n",
    "from IPython.display import clear_output\n",
    "from tensorflow.python.keras.models import Sequential\n",
    "from tensorflow.python.keras.layers import Dense\n",
    "from tensorflow.python.keras.initializers import RandomUniform\n"
   ]
  },
  {
   "cell_type": "markdown",
   "metadata": {},
   "source": [
    "#### Set the streaming audio settings"
   ]
  },
  {
   "cell_type": "code",
   "execution_count": 48,
   "metadata": {},
   "outputs": [],
   "source": [
    "CHUNK = 256\n",
    "WIDTH = 1\n",
    "CHANNELS = 1\n",
    "RATE = 22050\n",
    "RECORD_SECONDS = 30"
   ]
  },
  {
   "cell_type": "markdown",
   "metadata": {},
   "source": [
    "#### Define the Neural Network model Used"
   ]
  },
  {
   "cell_type": "code",
   "execution_count": 49,
   "metadata": {},
   "outputs": [],
   "source": [
    "def create_model():\n",
    "\n",
    "    model = Sequential()\n",
    "    model.add(Dense(64, activation = 'relu', input_shape= (1, 256)))\n",
    "    model.add(Dense(512, kernel_initializer=RandomUniform(minval=-0.05, maxval=0.05),\n",
    "        kernel_regularizer=tf.keras.regularizers.l2(0.001),\n",
    "        activation=tf.nn.relu))\n",
    "    model.add(Dense(128, activation = 'relu', \n",
    "        kernel_regularizer=tf.keras.regularizers.l2(0.001)))\n",
    "    model.add(Dense (128, activation = 'relu',\n",
    "        kernel_regularizer=tf.keras.regularizers.l2(0.001)))\n",
    "    model.add(tf.keras.layers.Dropout(0.5))\n",
    "    model.add(Dense (64, activation = 'relu', \n",
    "        kernel_regularizer=tf.keras.regularizers.l2(0.001)))\n",
    "    model.add(Dense(2, kernel_initializer=RandomUniform(minval=-0.05, maxval=0.05),\n",
    "        kernel_regularizer=tf.keras.regularizers.l2(0.001),\n",
    "        activation=tf.nn.softmax))\n",
    "\n",
    "    model.compile(optimizer=keras.optimizers.RMSprop(learning_rate=0.0001),\n",
    "                  loss='sparse_categorical_crossentropy',\n",
    "                  metrics=['accuracy'])\n",
    "    return model"
   ]
  },
  {
   "cell_type": "markdown",
   "metadata": {},
   "source": [
    "#### Load trained model"
   ]
  },
  {
   "cell_type": "code",
   "execution_count": 50,
   "metadata": {},
   "outputs": [],
   "source": [
    "modeltoDeploy = create_model()"
   ]
  },
  {
   "cell_type": "markdown",
   "metadata": {},
   "source": [
    "#### Loads the weights"
   ]
  },
  {
   "cell_type": "code",
   "execution_count": 51,
   "metadata": {},
   "outputs": [
    {
     "data": {
      "text/plain": [
       "<tensorflow.python.training.tracking.util.CheckpointLoadStatus at 0x7f7494530d90>"
      ]
     },
     "execution_count": 51,
     "metadata": {},
     "output_type": "execute_result"
    }
   ],
   "source": [
    "checkpoint_path = \"./TrainedModel/\"\n",
    "checkpoint_dir = os.path.dirname(checkpoint_path)\n",
    "modeltoDeploy.load_weights(checkpoint_path)"
   ]
  },
  {
   "cell_type": "markdown",
   "metadata": {},
   "source": [
    "#### Create a probability models and labels for prediction"
   ]
  },
  {
   "cell_type": "code",
   "execution_count": 52,
   "metadata": {},
   "outputs": [],
   "source": [
    "classes = ['Speech', 'Music']\n",
    "probability_model = Sequential([modeltoDeploy, tf.keras.layers.Softmax()])"
   ]
  },
  {
   "cell_type": "markdown",
   "metadata": {},
   "source": [
    "#### Load a random file to test"
   ]
  },
  {
   "cell_type": "code",
   "execution_count": 53,
   "metadata": {},
   "outputs": [],
   "source": [
    "testfiles = pd.read_csv('./Data/BasicData.csv')['Filename'].values\n",
    "testfile = np.random.choice(testfiles)\n",
    "wf = wave.open('./Data/Files/'+testfile, 'rb')"
   ]
  },
  {
   "cell_type": "markdown",
   "metadata": {},
   "source": [
    "#### Create a PyAudio handle to read, test, and play"
   ]
  },
  {
   "cell_type": "code",
   "execution_count": 54,
   "metadata": {},
   "outputs": [],
   "source": [
    "p = pyaudio.PyAudio()\n",
    "stream = p.open(format=p.get_format_from_width(wf.getsampwidth()),\n",
    "                channels=wf.getnchannels(),\n",
    "                rate=wf.getframerate(),\n",
    "                output=True)"
   ]
  },
  {
   "cell_type": "markdown",
   "metadata": {},
   "source": [
    "#### Read data"
   ]
  },
  {
   "cell_type": "code",
   "execution_count": 55,
   "metadata": {},
   "outputs": [],
   "source": [
    "data = wf.readframes(CHUNK)"
   ]
  },
  {
   "cell_type": "markdown",
   "metadata": {},
   "source": [
    "#### Test and play stream "
   ]
  },
  {
   "cell_type": "code",
   "execution_count": 56,
   "metadata": {},
   "outputs": [
    {
     "name": "stdout",
     "output_type": "stream",
     "text": [
      "Music\n"
     ]
    }
   ],
   "source": [
    "freqData = np.empty((0, CHUNK), int)\n",
    "k = 0\n",
    "while len(data) > 0:\n",
    "    k+=1\n",
    "    stream.write(data)\n",
    "    idata = np.fromstring(data , np.int16)\n",
    "    idata = np.abs(np.fft.fft(idata))\n",
    "    T = np.sum(idata)/np.max(idata)\n",
    "    if T>10:\n",
    "        row = [list(idata)]\n",
    "        if k%10 == 0:\n",
    "            try:\n",
    "                # pass\n",
    "                predictions = probability_model.predict(row)\n",
    "                # print(predictions)\n",
    "                index = np.argmax(predictions[0])\n",
    "                print(classes[index])\n",
    "                clear_output(wait=True)\n",
    "            except Exception as e:\n",
    "                raise\n",
    "    data = wf.readframes(CHUNK)"
   ]
  },
  {
   "cell_type": "markdown",
   "metadata": {},
   "source": [
    "#### Stop stream once done"
   ]
  },
  {
   "cell_type": "code",
   "execution_count": 57,
   "metadata": {},
   "outputs": [],
   "source": [
    "stream.stop_stream()\n",
    "stream.close()"
   ]
  },
  {
   "cell_type": "markdown",
   "metadata": {},
   "source": [
    "#### Close PyAudio handle"
   ]
  },
  {
   "cell_type": "code",
   "execution_count": 58,
   "metadata": {},
   "outputs": [],
   "source": [
    "p.terminate()"
   ]
  },
  {
   "cell_type": "code",
   "execution_count": null,
   "metadata": {},
   "outputs": [],
   "source": []
  }
 ],
 "metadata": {
  "kernelspec": {
   "display_name": "venv",
   "language": "python",
   "name": "venv"
  },
  "language_info": {
   "codemirror_mode": {
    "name": "ipython",
    "version": 3
   },
   "file_extension": ".py",
   "mimetype": "text/x-python",
   "name": "python",
   "nbconvert_exporter": "python",
   "pygments_lexer": "ipython3",
   "version": "3.8.5"
  }
 },
 "nbformat": 4,
 "nbformat_minor": 4
}

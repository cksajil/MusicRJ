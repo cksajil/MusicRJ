{
 "cells": [
  {
   "cell_type": "markdown",
   "metadata": {},
   "source": [
    "# Data Modeling"
   ]
  },
  {
   "cell_type": "markdown",
   "metadata": {},
   "source": [
    "### Import Libraries"
   ]
  },
  {
   "cell_type": "code",
   "execution_count": 1,
   "metadata": {},
   "outputs": [],
   "source": [
    "import pandas as pd"
   ]
  },
  {
   "cell_type": "markdown",
   "metadata": {},
   "source": [
    "### Import Refined DataSet"
   ]
  },
  {
   "cell_type": "code",
   "execution_count": 2,
   "metadata": {},
   "outputs": [],
   "source": [
    "essentialdata = pd.read_csv('Data/PrincipalComponentData.csv')"
   ]
  },
  {
   "cell_type": "code",
   "execution_count": 3,
   "metadata": {},
   "outputs": [
    {
     "data": {
      "text/html": [
       "<div>\n",
       "<style scoped>\n",
       "    .dataframe tbody tr th:only-of-type {\n",
       "        vertical-align: middle;\n",
       "    }\n",
       "\n",
       "    .dataframe tbody tr th {\n",
       "        vertical-align: top;\n",
       "    }\n",
       "\n",
       "    .dataframe thead th {\n",
       "        text-align: right;\n",
       "    }\n",
       "</style>\n",
       "<table border=\"1\" class=\"dataframe\">\n",
       "  <thead>\n",
       "    <tr style=\"text-align: right;\">\n",
       "      <th></th>\n",
       "      <th>PCA0</th>\n",
       "      <th>PCA1</th>\n",
       "      <th>PCA2</th>\n",
       "      <th>PCA3</th>\n",
       "      <th>PCA4</th>\n",
       "      <th>PCA5</th>\n",
       "      <th>PCA6</th>\n",
       "      <th>PCA7</th>\n",
       "      <th>PCA8</th>\n",
       "      <th>PCA9</th>\n",
       "      <th>...</th>\n",
       "      <th>PCA42</th>\n",
       "      <th>PCA43</th>\n",
       "      <th>PCA44</th>\n",
       "      <th>PCA45</th>\n",
       "      <th>PCA46</th>\n",
       "      <th>PCA47</th>\n",
       "      <th>PCA48</th>\n",
       "      <th>PCA49</th>\n",
       "      <th>Music</th>\n",
       "      <th>Filename</th>\n",
       "    </tr>\n",
       "  </thead>\n",
       "  <tbody>\n",
       "    <tr>\n",
       "      <th>0</th>\n",
       "      <td>-3.816012</td>\n",
       "      <td>6.572316</td>\n",
       "      <td>0.347250</td>\n",
       "      <td>0.829393</td>\n",
       "      <td>0.001834</td>\n",
       "      <td>0.810930</td>\n",
       "      <td>-1.836805</td>\n",
       "      <td>-2.008000</td>\n",
       "      <td>1.262345</td>\n",
       "      <td>-0.050803</td>\n",
       "      <td>...</td>\n",
       "      <td>-1.443265</td>\n",
       "      <td>-0.239589</td>\n",
       "      <td>0.280315</td>\n",
       "      <td>1.147980</td>\n",
       "      <td>0.725233</td>\n",
       "      <td>0.549861</td>\n",
       "      <td>-0.363714</td>\n",
       "      <td>-0.101971</td>\n",
       "      <td>0</td>\n",
       "      <td>acomic2.wav</td>\n",
       "    </tr>\n",
       "    <tr>\n",
       "      <th>1</th>\n",
       "      <td>-3.963032</td>\n",
       "      <td>7.845675</td>\n",
       "      <td>0.781380</td>\n",
       "      <td>1.211285</td>\n",
       "      <td>-0.733665</td>\n",
       "      <td>-0.082552</td>\n",
       "      <td>-0.792448</td>\n",
       "      <td>-0.878920</td>\n",
       "      <td>0.424085</td>\n",
       "      <td>0.460887</td>\n",
       "      <td>...</td>\n",
       "      <td>-0.891295</td>\n",
       "      <td>-0.376305</td>\n",
       "      <td>0.490656</td>\n",
       "      <td>-0.065805</td>\n",
       "      <td>0.109681</td>\n",
       "      <td>0.276101</td>\n",
       "      <td>-0.359412</td>\n",
       "      <td>-0.553112</td>\n",
       "      <td>0</td>\n",
       "      <td>acomic.wav</td>\n",
       "    </tr>\n",
       "    <tr>\n",
       "      <th>2</th>\n",
       "      <td>5.148364</td>\n",
       "      <td>0.119405</td>\n",
       "      <td>0.155236</td>\n",
       "      <td>-3.167039</td>\n",
       "      <td>-3.202758</td>\n",
       "      <td>-0.554421</td>\n",
       "      <td>0.600480</td>\n",
       "      <td>1.951873</td>\n",
       "      <td>-0.675283</td>\n",
       "      <td>1.532033</td>\n",
       "      <td>...</td>\n",
       "      <td>0.325509</td>\n",
       "      <td>-1.531609</td>\n",
       "      <td>0.667297</td>\n",
       "      <td>0.379448</td>\n",
       "      <td>-0.788391</td>\n",
       "      <td>-0.175263</td>\n",
       "      <td>-0.809928</td>\n",
       "      <td>-0.317829</td>\n",
       "      <td>0</td>\n",
       "      <td>allison.wav</td>\n",
       "    </tr>\n",
       "    <tr>\n",
       "      <th>3</th>\n",
       "      <td>1.639687</td>\n",
       "      <td>0.367490</td>\n",
       "      <td>0.441764</td>\n",
       "      <td>-2.503467</td>\n",
       "      <td>0.725221</td>\n",
       "      <td>-1.860704</td>\n",
       "      <td>-0.336967</td>\n",
       "      <td>3.233178</td>\n",
       "      <td>-4.816601</td>\n",
       "      <td>-0.002228</td>\n",
       "      <td>...</td>\n",
       "      <td>0.253526</td>\n",
       "      <td>-0.314578</td>\n",
       "      <td>-0.395561</td>\n",
       "      <td>0.358883</td>\n",
       "      <td>-0.664901</td>\n",
       "      <td>0.108055</td>\n",
       "      <td>0.416500</td>\n",
       "      <td>0.213533</td>\n",
       "      <td>0</td>\n",
       "      <td>amal.wav</td>\n",
       "    </tr>\n",
       "    <tr>\n",
       "      <th>4</th>\n",
       "      <td>2.632253</td>\n",
       "      <td>0.906935</td>\n",
       "      <td>0.199317</td>\n",
       "      <td>-2.542599</td>\n",
       "      <td>-1.278079</td>\n",
       "      <td>-0.435696</td>\n",
       "      <td>-1.576462</td>\n",
       "      <td>1.763553</td>\n",
       "      <td>-2.774685</td>\n",
       "      <td>-1.105315</td>\n",
       "      <td>...</td>\n",
       "      <td>0.393921</td>\n",
       "      <td>-0.031789</td>\n",
       "      <td>0.556298</td>\n",
       "      <td>0.322125</td>\n",
       "      <td>0.009665</td>\n",
       "      <td>-0.541398</td>\n",
       "      <td>-0.555361</td>\n",
       "      <td>0.351066</td>\n",
       "      <td>0</td>\n",
       "      <td>austria.wav</td>\n",
       "    </tr>\n",
       "  </tbody>\n",
       "</table>\n",
       "<p>5 rows × 52 columns</p>\n",
       "</div>"
      ],
      "text/plain": [
       "       PCA0      PCA1      PCA2      PCA3      PCA4      PCA5      PCA6  \\\n",
       "0 -3.816012  6.572316  0.347250  0.829393  0.001834  0.810930 -1.836805   \n",
       "1 -3.963032  7.845675  0.781380  1.211285 -0.733665 -0.082552 -0.792448   \n",
       "2  5.148364  0.119405  0.155236 -3.167039 -3.202758 -0.554421  0.600480   \n",
       "3  1.639687  0.367490  0.441764 -2.503467  0.725221 -1.860704 -0.336967   \n",
       "4  2.632253  0.906935  0.199317 -2.542599 -1.278079 -0.435696 -1.576462   \n",
       "\n",
       "       PCA7      PCA8      PCA9  ...     PCA42     PCA43     PCA44     PCA45  \\\n",
       "0 -2.008000  1.262345 -0.050803  ... -1.443265 -0.239589  0.280315  1.147980   \n",
       "1 -0.878920  0.424085  0.460887  ... -0.891295 -0.376305  0.490656 -0.065805   \n",
       "2  1.951873 -0.675283  1.532033  ...  0.325509 -1.531609  0.667297  0.379448   \n",
       "3  3.233178 -4.816601 -0.002228  ...  0.253526 -0.314578 -0.395561  0.358883   \n",
       "4  1.763553 -2.774685 -1.105315  ...  0.393921 -0.031789  0.556298  0.322125   \n",
       "\n",
       "      PCA46     PCA47     PCA48     PCA49  Music     Filename  \n",
       "0  0.725233  0.549861 -0.363714 -0.101971      0  acomic2.wav  \n",
       "1  0.109681  0.276101 -0.359412 -0.553112      0   acomic.wav  \n",
       "2 -0.788391 -0.175263 -0.809928 -0.317829      0  allison.wav  \n",
       "3 -0.664901  0.108055  0.416500  0.213533      0     amal.wav  \n",
       "4  0.009665 -0.541398 -0.555361  0.351066      0  austria.wav  \n",
       "\n",
       "[5 rows x 52 columns]"
      ]
     },
     "execution_count": 3,
     "metadata": {},
     "output_type": "execute_result"
    }
   ],
   "source": [
    "essentialdata.head()"
   ]
  },
  {
   "cell_type": "markdown",
   "metadata": {},
   "source": [
    "### Separate Features and Labels"
   ]
  },
  {
   "cell_type": "code",
   "execution_count": 4,
   "metadata": {},
   "outputs": [],
   "source": [
    "features = essentialdata.drop(['Music', 'Filename'],axis=1).values\n",
    "labels = essentialdata.loc[:,['Music']].values"
   ]
  },
  {
   "cell_type": "markdown",
   "metadata": {},
   "source": [
    "### Perform Train-Test Split"
   ]
  },
  {
   "cell_type": "code",
   "execution_count": 5,
   "metadata": {},
   "outputs": [],
   "source": [
    "from sklearn.model_selection import train_test_split\n",
    "X_train, X_test, y_train, y_test = train_test_split(features, labels, test_size=0.2, random_state=42)"
   ]
  },
  {
   "cell_type": "code",
   "execution_count": 6,
   "metadata": {},
   "outputs": [],
   "source": [
    "y_train = y_train.T[0]\n",
    "y_test = y_test.T[0]"
   ]
  },
  {
   "cell_type": "markdown",
   "metadata": {},
   "source": [
    "### Evaluate The Performance of Different Models"
   ]
  },
  {
   "cell_type": "code",
   "execution_count": 7,
   "metadata": {},
   "outputs": [],
   "source": [
    "from sklearn.metrics import f1_score\n",
    "\n",
    "def train_classifier(clf, X_train, y_train):\n",
    "    clf.fit(X_train, y_train)\n",
    "    \n",
    "def predict_labels(clf, features, target):\n",
    "    y_pred = clf.predict(features)\n",
    "    return f1_score(target, y_pred)\n",
    "\n",
    "\n",
    "def train_predict(clf, X_train, y_train, X_test, y_test):\n",
    "    print (\"Training a {} using a training set size of {}. . .\".format(clf.__class__.__name__, len(X_train)))\n",
    "    train_classifier(clf, X_train, y_train)\n",
    "    print (\"F1 score for training set: {:.4f}.\".format(predict_labels(clf, X_train, y_train)))\n",
    "    print (\"F1 score for test set: {:.4f}.\".format(predict_labels(clf, X_test, y_test)))"
   ]
  },
  {
   "cell_type": "code",
   "execution_count": 8,
   "metadata": {},
   "outputs": [
    {
     "name": "stdout",
     "output_type": "stream",
     "text": [
      "Training a GaussianNB using a training set size of 102. . .\n",
      "F1 score for training set: 0.9515.\n",
      "F1 score for test set: 0.9286.\n",
      "Training a DecisionTreeClassifier using a training set size of 102. . .\n",
      "F1 score for training set: 1.0000.\n",
      "F1 score for test set: 0.8462.\n",
      "Training a AdaBoostClassifier using a training set size of 102. . .\n",
      "F1 score for training set: 1.0000.\n",
      "F1 score for test set: 0.8667.\n",
      "Training a SVC using a training set size of 102. . .\n",
      "F1 score for training set: 1.0000.\n",
      "F1 score for test set: 0.9655.\n"
     ]
    }
   ],
   "source": [
    "from sklearn.naive_bayes import GaussianNB\n",
    "from sklearn.tree import DecisionTreeClassifier\n",
    "from sklearn.ensemble import AdaBoostClassifier\n",
    "from sklearn import svm\n",
    "\n",
    "clf_A = GaussianNB()\n",
    "clf_B = DecisionTreeClassifier()\n",
    "clf_C = AdaBoostClassifier()\n",
    "clf_D = svm.SVC(gamma='scale')\n",
    "\n",
    "train_predict(clf_A, X_train, y_train, X_test, y_test)\n",
    "train_predict(clf_B, X_train, y_train, X_test, y_test)\n",
    "train_predict(clf_C, X_train, y_train, X_test, y_test)\n",
    "train_predict(clf_D, X_train, y_train, X_test, y_test)"
   ]
  },
  {
   "cell_type": "markdown",
   "metadata": {},
   "source": [
    "### Pickle Relevant Model"
   ]
  },
  {
   "cell_type": "code",
   "execution_count": 9,
   "metadata": {},
   "outputs": [],
   "source": [
    "import pickle\n",
    "pickle.dump(clf_A, open('PickledModels/'+clf_A.__class__.__name__, 'wb'))\n",
    "pickle.dump(clf_B, open('PickledModels/'+clf_B.__class__.__name__, 'wb'))\n",
    "pickle.dump(clf_C, open('PickledModels/'+clf_C.__class__.__name__, 'wb'))\n",
    "pickle.dump(clf_D, open('PickledModels/'+clf_D.__class__.__name__, 'wb'))"
   ]
  },
  {
   "cell_type": "code",
   "execution_count": null,
   "metadata": {},
   "outputs": [],
   "source": []
  }
 ],
 "metadata": {
  "kernelspec": {
   "display_name": "Python 3",
   "language": "python",
   "name": "python3"
  },
  "language_info": {
   "codemirror_mode": {
    "name": "ipython",
    "version": 3
   },
   "file_extension": ".py",
   "mimetype": "text/x-python",
   "name": "python",
   "nbconvert_exporter": "python",
   "pygments_lexer": "ipython3",
   "version": "3.7.3"
  }
 },
 "nbformat": 4,
 "nbformat_minor": 2
}

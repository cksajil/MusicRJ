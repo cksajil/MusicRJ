{
 "cells": [
  {
   "cell_type": "markdown",
   "metadata": {},
   "source": [
    "# Data Modeling"
   ]
  },
  {
   "cell_type": "markdown",
   "metadata": {},
   "source": [
    "### Import Libraries"
   ]
  },
  {
   "cell_type": "code",
   "execution_count": 37,
   "metadata": {},
   "outputs": [],
   "source": [
    "import pandas as pd"
   ]
  },
  {
   "cell_type": "markdown",
   "metadata": {},
   "source": [
    "### Import Refined DataSet"
   ]
  },
  {
   "cell_type": "code",
   "execution_count": 38,
   "metadata": {},
   "outputs": [],
   "source": [
    "essentialdata = pd.read_csv('Data/PrincipalComponentData.csv')"
   ]
  },
  {
   "cell_type": "code",
   "execution_count": 39,
   "metadata": {},
   "outputs": [
    {
     "data": {
      "text/html": [
       "<div>\n",
       "<style scoped>\n",
       "    .dataframe tbody tr th:only-of-type {\n",
       "        vertical-align: middle;\n",
       "    }\n",
       "\n",
       "    .dataframe tbody tr th {\n",
       "        vertical-align: top;\n",
       "    }\n",
       "\n",
       "    .dataframe thead th {\n",
       "        text-align: right;\n",
       "    }\n",
       "</style>\n",
       "<table border=\"1\" class=\"dataframe\">\n",
       "  <thead>\n",
       "    <tr style=\"text-align: right;\">\n",
       "      <th></th>\n",
       "      <th>PCA0</th>\n",
       "      <th>PCA1</th>\n",
       "      <th>PCA2</th>\n",
       "      <th>PCA3</th>\n",
       "      <th>PCA4</th>\n",
       "      <th>PCA5</th>\n",
       "      <th>PCA6</th>\n",
       "      <th>PCA7</th>\n",
       "      <th>PCA8</th>\n",
       "      <th>PCA9</th>\n",
       "      <th>...</th>\n",
       "      <th>PCA42</th>\n",
       "      <th>PCA43</th>\n",
       "      <th>PCA44</th>\n",
       "      <th>PCA45</th>\n",
       "      <th>PCA46</th>\n",
       "      <th>PCA47</th>\n",
       "      <th>PCA48</th>\n",
       "      <th>PCA49</th>\n",
       "      <th>Music</th>\n",
       "      <th>Filename</th>\n",
       "    </tr>\n",
       "  </thead>\n",
       "  <tbody>\n",
       "    <tr>\n",
       "      <th>0</th>\n",
       "      <td>-5.382670</td>\n",
       "      <td>-1.408019</td>\n",
       "      <td>-0.267190</td>\n",
       "      <td>1.104658</td>\n",
       "      <td>-0.055857</td>\n",
       "      <td>0.697880</td>\n",
       "      <td>0.503811</td>\n",
       "      <td>0.601028</td>\n",
       "      <td>0.603681</td>\n",
       "      <td>0.220391</td>\n",
       "      <td>...</td>\n",
       "      <td>-0.090331</td>\n",
       "      <td>-0.126543</td>\n",
       "      <td>0.222985</td>\n",
       "      <td>-0.391295</td>\n",
       "      <td>-0.040960</td>\n",
       "      <td>-0.064627</td>\n",
       "      <td>-0.165569</td>\n",
       "      <td>0.035157</td>\n",
       "      <td>0</td>\n",
       "      <td>acomic2.wav</td>\n",
       "    </tr>\n",
       "    <tr>\n",
       "      <th>1</th>\n",
       "      <td>-3.227412</td>\n",
       "      <td>-0.671966</td>\n",
       "      <td>-0.557932</td>\n",
       "      <td>0.169520</td>\n",
       "      <td>-0.513011</td>\n",
       "      <td>-0.485725</td>\n",
       "      <td>0.572506</td>\n",
       "      <td>-0.994831</td>\n",
       "      <td>-0.407965</td>\n",
       "      <td>-0.233180</td>\n",
       "      <td>...</td>\n",
       "      <td>0.237290</td>\n",
       "      <td>-0.309418</td>\n",
       "      <td>0.033326</td>\n",
       "      <td>-0.077643</td>\n",
       "      <td>0.323396</td>\n",
       "      <td>-0.069389</td>\n",
       "      <td>-0.499215</td>\n",
       "      <td>-0.010356</td>\n",
       "      <td>0</td>\n",
       "      <td>acomic.wav</td>\n",
       "    </tr>\n",
       "    <tr>\n",
       "      <th>2</th>\n",
       "      <td>-0.621593</td>\n",
       "      <td>-1.390643</td>\n",
       "      <td>-0.514943</td>\n",
       "      <td>3.923674</td>\n",
       "      <td>-1.027973</td>\n",
       "      <td>0.380351</td>\n",
       "      <td>0.872491</td>\n",
       "      <td>1.137823</td>\n",
       "      <td>-0.217091</td>\n",
       "      <td>1.492450</td>\n",
       "      <td>...</td>\n",
       "      <td>-0.024066</td>\n",
       "      <td>0.103470</td>\n",
       "      <td>0.013676</td>\n",
       "      <td>0.630781</td>\n",
       "      <td>-0.253838</td>\n",
       "      <td>-0.108359</td>\n",
       "      <td>0.087015</td>\n",
       "      <td>0.180932</td>\n",
       "      <td>0</td>\n",
       "      <td>allison.wav</td>\n",
       "    </tr>\n",
       "    <tr>\n",
       "      <th>3</th>\n",
       "      <td>-4.323109</td>\n",
       "      <td>-0.370215</td>\n",
       "      <td>-0.605461</td>\n",
       "      <td>0.589852</td>\n",
       "      <td>-0.232428</td>\n",
       "      <td>0.339021</td>\n",
       "      <td>0.809531</td>\n",
       "      <td>-1.550904</td>\n",
       "      <td>0.513967</td>\n",
       "      <td>0.533095</td>\n",
       "      <td>...</td>\n",
       "      <td>0.068455</td>\n",
       "      <td>0.037394</td>\n",
       "      <td>-0.621647</td>\n",
       "      <td>-0.004052</td>\n",
       "      <td>-0.449807</td>\n",
       "      <td>-0.160071</td>\n",
       "      <td>-0.157622</td>\n",
       "      <td>-0.013166</td>\n",
       "      <td>0</td>\n",
       "      <td>amal.wav</td>\n",
       "    </tr>\n",
       "    <tr>\n",
       "      <th>4</th>\n",
       "      <td>-0.503450</td>\n",
       "      <td>-0.882949</td>\n",
       "      <td>-0.474098</td>\n",
       "      <td>1.554466</td>\n",
       "      <td>-0.351477</td>\n",
       "      <td>-1.245828</td>\n",
       "      <td>0.190470</td>\n",
       "      <td>-0.707988</td>\n",
       "      <td>0.382783</td>\n",
       "      <td>-0.583487</td>\n",
       "      <td>...</td>\n",
       "      <td>-0.617341</td>\n",
       "      <td>0.195878</td>\n",
       "      <td>0.170842</td>\n",
       "      <td>-0.681900</td>\n",
       "      <td>0.198254</td>\n",
       "      <td>-0.261608</td>\n",
       "      <td>-0.103652</td>\n",
       "      <td>0.250543</td>\n",
       "      <td>0</td>\n",
       "      <td>austria.wav</td>\n",
       "    </tr>\n",
       "  </tbody>\n",
       "</table>\n",
       "<p>5 rows × 52 columns</p>\n",
       "</div>"
      ],
      "text/plain": [
       "       PCA0      PCA1      PCA2      PCA3      PCA4      PCA5      PCA6  \\\n",
       "0 -5.382670 -1.408019 -0.267190  1.104658 -0.055857  0.697880  0.503811   \n",
       "1 -3.227412 -0.671966 -0.557932  0.169520 -0.513011 -0.485725  0.572506   \n",
       "2 -0.621593 -1.390643 -0.514943  3.923674 -1.027973  0.380351  0.872491   \n",
       "3 -4.323109 -0.370215 -0.605461  0.589852 -0.232428  0.339021  0.809531   \n",
       "4 -0.503450 -0.882949 -0.474098  1.554466 -0.351477 -1.245828  0.190470   \n",
       "\n",
       "       PCA7      PCA8      PCA9     ...          PCA42     PCA43     PCA44  \\\n",
       "0  0.601028  0.603681  0.220391     ...      -0.090331 -0.126543  0.222985   \n",
       "1 -0.994831 -0.407965 -0.233180     ...       0.237290 -0.309418  0.033326   \n",
       "2  1.137823 -0.217091  1.492450     ...      -0.024066  0.103470  0.013676   \n",
       "3 -1.550904  0.513967  0.533095     ...       0.068455  0.037394 -0.621647   \n",
       "4 -0.707988  0.382783 -0.583487     ...      -0.617341  0.195878  0.170842   \n",
       "\n",
       "      PCA45     PCA46     PCA47     PCA48     PCA49  Music     Filename  \n",
       "0 -0.391295 -0.040960 -0.064627 -0.165569  0.035157      0  acomic2.wav  \n",
       "1 -0.077643  0.323396 -0.069389 -0.499215 -0.010356      0   acomic.wav  \n",
       "2  0.630781 -0.253838 -0.108359  0.087015  0.180932      0  allison.wav  \n",
       "3 -0.004052 -0.449807 -0.160071 -0.157622 -0.013166      0     amal.wav  \n",
       "4 -0.681900  0.198254 -0.261608 -0.103652  0.250543      0  austria.wav  \n",
       "\n",
       "[5 rows x 52 columns]"
      ]
     },
     "execution_count": 39,
     "metadata": {},
     "output_type": "execute_result"
    }
   ],
   "source": [
    "essentialdata.head()"
   ]
  },
  {
   "cell_type": "markdown",
   "metadata": {},
   "source": [
    "### Separate Features and Labels"
   ]
  },
  {
   "cell_type": "code",
   "execution_count": 40,
   "metadata": {},
   "outputs": [],
   "source": [
    "features = essentialdata.drop(['Music', 'Filename'],axis=1).values\n",
    "labels = essentialdata.loc[:,['Music']].values"
   ]
  },
  {
   "cell_type": "markdown",
   "metadata": {},
   "source": [
    "### Perform Train-Test Split"
   ]
  },
  {
   "cell_type": "code",
   "execution_count": 41,
   "metadata": {},
   "outputs": [],
   "source": [
    "from sklearn.model_selection import train_test_split\n",
    "X_train, X_test, y_train, y_test = train_test_split(features, labels, test_size=0.6, random_state=42)"
   ]
  },
  {
   "cell_type": "code",
   "execution_count": 42,
   "metadata": {},
   "outputs": [],
   "source": [
    "y_train = y_train.T[0]\n",
    "y_test = y_test.T[0]"
   ]
  },
  {
   "cell_type": "markdown",
   "metadata": {},
   "source": [
    "### Evaluate The Performance of Different Models"
   ]
  },
  {
   "cell_type": "code",
   "execution_count": 43,
   "metadata": {},
   "outputs": [],
   "source": [
    "from sklearn.metrics import f1_score\n",
    "\n",
    "def train_classifier(clf, X_train, y_train):\n",
    "    clf.fit(X_train, y_train)\n",
    "    \n",
    "def predict_labels(clf, features, target):\n",
    "    y_pred = clf.predict(features)\n",
    "    return f1_score(target, y_pred)\n",
    "\n",
    "\n",
    "def train_predict(clf, X_train, y_train, X_test, y_test):\n",
    "    print (\"Training a {} using a training set size of {}. . .\".format(clf.__class__.__name__, len(X_train)))\n",
    "    train_classifier(clf, X_train, y_train)\n",
    "    print (\"F1 score for training set: {:.4f}.\".format(predict_labels(clf, X_train, y_train)))\n",
    "    print (\"F1 score for test set: {:.4f}.\".format(predict_labels(clf, X_test, y_test)))"
   ]
  },
  {
   "cell_type": "code",
   "execution_count": 44,
   "metadata": {},
   "outputs": [
    {
     "name": "stdout",
     "output_type": "stream",
     "text": [
      "Training a GaussianNB using a training set size of 51. . .\n",
      "F1 score for training set: 0.7907.\n",
      "F1 score for test set: 0.7123.\n",
      "Training a DecisionTreeClassifier using a training set size of 51. . .\n",
      "F1 score for training set: 1.0000.\n",
      "F1 score for test set: 0.7013.\n",
      "Training a AdaBoostClassifier using a training set size of 51. . .\n",
      "F1 score for training set: 1.0000.\n",
      "F1 score for test set: 0.6667.\n",
      "Training a SVC using a training set size of 51. . .\n",
      "F1 score for training set: 0.8500.\n",
      "F1 score for test set: 0.7027.\n"
     ]
    }
   ],
   "source": [
    "from sklearn.naive_bayes import GaussianNB\n",
    "from sklearn.tree import DecisionTreeClassifier\n",
    "from sklearn.ensemble import AdaBoostClassifier\n",
    "from sklearn import svm\n",
    "\n",
    "clf_A = GaussianNB()\n",
    "clf_B = DecisionTreeClassifier()\n",
    "clf_C = AdaBoostClassifier()\n",
    "clf_D = svm.SVC(gamma='scale')\n",
    "\n",
    "train_predict(clf_A, X_train, y_train, X_test, y_test)\n",
    "train_predict(clf_B, X_train, y_train, X_test, y_test)\n",
    "train_predict(clf_C, X_train, y_train, X_test, y_test)\n",
    "train_predict(clf_D, X_train, y_train, X_test, y_test)"
   ]
  },
  {
   "cell_type": "markdown",
   "metadata": {},
   "source": [
    "### Pickle Relevant Model"
   ]
  },
  {
   "cell_type": "code",
   "execution_count": 45,
   "metadata": {},
   "outputs": [],
   "source": [
    "import pickle\n",
    "pickle.dump(clf_A, open('PickledModels/'+clf_A.__class__.__name__, 'wb'))\n",
    "pickle.dump(clf_B, open('PickledModels/'+clf_B.__class__.__name__, 'wb'))\n",
    "pickle.dump(clf_C, open('PickledModels/'+clf_C.__class__.__name__, 'wb'))\n",
    "pickle.dump(clf_D, open('PickledModels/'+clf_D.__class__.__name__, 'wb'))"
   ]
  },
  {
   "cell_type": "code",
   "execution_count": null,
   "metadata": {},
   "outputs": [],
   "source": []
  }
 ],
 "metadata": {
  "kernelspec": {
   "display_name": "Python 3",
   "language": "python",
   "name": "python3"
  },
  "language_info": {
   "codemirror_mode": {
    "name": "ipython",
    "version": 3
   },
   "file_extension": ".py",
   "mimetype": "text/x-python",
   "name": "python",
   "nbconvert_exporter": "python",
   "pygments_lexer": "ipython3",
   "version": "3.7.1"
  }
 },
 "nbformat": 4,
 "nbformat_minor": 2
}

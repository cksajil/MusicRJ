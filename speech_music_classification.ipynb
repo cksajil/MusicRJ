{
 "cells": [
  {
   "cell_type": "code",
   "execution_count": 1,
   "id": "8a520e7d",
   "metadata": {
    "execution": {
     "iopub.execute_input": "2023-06-06T12:39:12.689478Z",
     "iopub.status.busy": "2023-06-06T12:39:12.689158Z",
     "iopub.status.idle": "2023-06-06T12:39:24.633117Z",
     "shell.execute_reply": "2023-06-06T12:39:24.631238Z"
    },
    "papermill": {
     "duration": 11.955954,
     "end_time": "2023-06-06T12:39:24.635887",
     "exception": false,
     "start_time": "2023-06-06T12:39:12.679933",
     "status": "completed"
    },
    "tags": []
   },
   "outputs": [
    {
     "name": "stderr",
     "output_type": "stream",
     "text": [
      "/opt/conda/lib/python3.10/site-packages/tensorflow_io/python/ops/__init__.py:98: UserWarning: unable to load libtensorflow_io_plugins.so: unable to open file: libtensorflow_io_plugins.so, from paths: ['/opt/conda/lib/python3.10/site-packages/tensorflow_io/python/ops/libtensorflow_io_plugins.so']\n",
      "caused by: ['/opt/conda/lib/python3.10/site-packages/tensorflow_io/python/ops/libtensorflow_io_plugins.so: undefined symbol: _ZN3tsl6StatusC1EN10tensorflow5error4CodeESt17basic_string_viewIcSt11char_traitsIcEENS_14SourceLocationE']\n",
      "  warnings.warn(f\"unable to load libtensorflow_io_plugins.so: {e}\")\n",
      "/opt/conda/lib/python3.10/site-packages/tensorflow_io/python/ops/__init__.py:104: UserWarning: file system plugins are not loaded: unable to open file: libtensorflow_io.so, from paths: ['/opt/conda/lib/python3.10/site-packages/tensorflow_io/python/ops/libtensorflow_io.so']\n",
      "caused by: ['/opt/conda/lib/python3.10/site-packages/tensorflow_io/python/ops/libtensorflow_io.so: undefined symbol: _ZTVN10tensorflow13GcsFileSystemE']\n",
      "  warnings.warn(f\"file system plugins are not loaded: {e}\")\n"
     ]
    }
   ],
   "source": [
    "import librosa\n",
    "import numpy as np\n",
    "import pandas as pd\n",
    "from tqdm import tqdm\n",
    "import tensorflow as tf\n",
    "from os.path import join\n",
    "from keras.layers import Dense\n",
    "import matplotlib.pyplot as plt\n",
    "from prettytable import PrettyTable\n",
    "from keras.models import Sequential\n",
    "from sklearn.metrics import f1_score\n",
    "from sklearn.metrics import recall_score\n",
    "from sklearn.metrics import accuracy_score\n",
    "from sklearn.metrics import precision_score\n",
    "from sklearn.metrics import confusion_matrix\n",
    "from tensorflow.keras.optimizers import Adam\n",
    "from tensorflow.keras.regularizers import l2\n",
    "from tensorflow.keras.callbacks import Callback\n",
    "from tensorflow.keras.callbacks import TensorBoard\n",
    "from sklearn.model_selection import train_test_split\n",
    "from tensorflow.keras.callbacks import ModelCheckpoint\n",
    "from tensorflow.keras.initializers import RandomUniform"
   ]
  },
  {
   "cell_type": "code",
   "execution_count": 2,
   "id": "19f55f9f",
   "metadata": {
    "execution": {
     "iopub.execute_input": "2023-06-06T12:39:24.649951Z",
     "iopub.status.busy": "2023-06-06T12:39:24.649251Z",
     "iopub.status.idle": "2023-06-06T12:39:24.671701Z",
     "shell.execute_reply": "2023-06-06T12:39:24.670950Z"
    },
    "papermill": {
     "duration": 0.03233,
     "end_time": "2023-06-06T12:39:24.673945",
     "exception": false,
     "start_time": "2023-06-06T12:39:24.641615",
     "status": "completed"
    },
    "tags": []
   },
   "outputs": [],
   "source": [
    "data_path = \"/kaggle/input/datagtzan-music-speech-collection/\"\n",
    "basic_data = pd.read_csv(data_path+\"BasicData.csv\")"
   ]
  },
  {
   "cell_type": "code",
   "execution_count": 3,
   "id": "7eb96741",
   "metadata": {
    "execution": {
     "iopub.execute_input": "2023-06-06T12:39:24.688539Z",
     "iopub.status.busy": "2023-06-06T12:39:24.686866Z",
     "iopub.status.idle": "2023-06-06T12:39:24.720980Z",
     "shell.execute_reply": "2023-06-06T12:39:24.720011Z"
    },
    "papermill": {
     "duration": 0.044009,
     "end_time": "2023-06-06T12:39:24.723484",
     "exception": false,
     "start_time": "2023-06-06T12:39:24.679475",
     "status": "completed"
    },
    "tags": []
   },
   "outputs": [
    {
     "data": {
      "text/html": [
       "<div>\n",
       "<style scoped>\n",
       "    .dataframe tbody tr th:only-of-type {\n",
       "        vertical-align: middle;\n",
       "    }\n",
       "\n",
       "    .dataframe tbody tr th {\n",
       "        vertical-align: top;\n",
       "    }\n",
       "\n",
       "    .dataframe thead th {\n",
       "        text-align: right;\n",
       "    }\n",
       "</style>\n",
       "<table border=\"1\" class=\"dataframe\">\n",
       "  <thead>\n",
       "    <tr style=\"text-align: right;\">\n",
       "      <th></th>\n",
       "      <th>Filename</th>\n",
       "      <th>Label</th>\n",
       "    </tr>\n",
       "  </thead>\n",
       "  <tbody>\n",
       "    <tr>\n",
       "      <th>0</th>\n",
       "      <td>acomic.wav</td>\n",
       "      <td>Speech</td>\n",
       "    </tr>\n",
       "    <tr>\n",
       "      <th>1</th>\n",
       "      <td>ballad.wav</td>\n",
       "      <td>Music</td>\n",
       "    </tr>\n",
       "    <tr>\n",
       "      <th>2</th>\n",
       "      <td>acomic2.wav</td>\n",
       "      <td>Speech</td>\n",
       "    </tr>\n",
       "    <tr>\n",
       "      <th>3</th>\n",
       "      <td>allison.wav</td>\n",
       "      <td>Speech</td>\n",
       "    </tr>\n",
       "    <tr>\n",
       "      <th>4</th>\n",
       "      <td>amal.wav</td>\n",
       "      <td>Speech</td>\n",
       "    </tr>\n",
       "  </tbody>\n",
       "</table>\n",
       "</div>"
      ],
      "text/plain": [
       "      Filename   Label\n",
       "0   acomic.wav  Speech\n",
       "1   ballad.wav   Music\n",
       "2  acomic2.wav  Speech\n",
       "3  allison.wav  Speech\n",
       "4     amal.wav  Speech"
      ]
     },
     "execution_count": 3,
     "metadata": {},
     "output_type": "execute_result"
    }
   ],
   "source": [
    "basic_data.head()"
   ]
  },
  {
   "cell_type": "code",
   "execution_count": 4,
   "id": "d046be09",
   "metadata": {
    "execution": {
     "iopub.execute_input": "2023-06-06T12:39:24.737273Z",
     "iopub.status.busy": "2023-06-06T12:39:24.736649Z",
     "iopub.status.idle": "2023-06-06T12:39:24.742004Z",
     "shell.execute_reply": "2023-06-06T12:39:24.740905Z"
    },
    "papermill": {
     "duration": 0.015178,
     "end_time": "2023-06-06T12:39:24.744509",
     "exception": false,
     "start_time": "2023-06-06T12:39:24.729331",
     "status": "completed"
    },
    "tags": []
   },
   "outputs": [],
   "source": [
    "VALIDATION_SIZE = 0.25\n",
    "NUM_CLASSES = 2\n",
    "LEARNING_RATE = 0.001\n",
    "ACCURACY_THRESHOLD = 0.9851\n",
    "BATCH_SIZE = 64\n",
    "EPOCHS = 20"
   ]
  },
  {
   "cell_type": "code",
   "execution_count": 5,
   "id": "9042c373",
   "metadata": {
    "execution": {
     "iopub.execute_input": "2023-06-06T12:39:24.760343Z",
     "iopub.status.busy": "2023-06-06T12:39:24.759939Z",
     "iopub.status.idle": "2023-06-06T12:39:24.767630Z",
     "shell.execute_reply": "2023-06-06T12:39:24.765399Z"
    },
    "papermill": {
     "duration": 0.017185,
     "end_time": "2023-06-06T12:39:24.770101",
     "exception": false,
     "start_time": "2023-06-06T12:39:24.752916",
     "status": "completed"
    },
    "tags": []
   },
   "outputs": [],
   "source": [
    "def strided_app(a, L, S):\n",
    "    \"\"\"\n",
    "    Function to split audio as overlapping segments\n",
    "    L : Window length\n",
    "    S : Stride (L/stepsize)\n",
    "    \"\"\"\n",
    "    nrows = ((a.size-L)//S)+1\n",
    "    n = a.strides[0]\n",
    "    return np.lib.stride_tricks.as_strided(\n",
    "        a, shape=(nrows, L), strides=(S*n, n))"
   ]
  },
  {
   "cell_type": "code",
   "execution_count": 6,
   "id": "5c19425c",
   "metadata": {
    "execution": {
     "iopub.execute_input": "2023-06-06T12:39:24.783625Z",
     "iopub.status.busy": "2023-06-06T12:39:24.783274Z",
     "iopub.status.idle": "2023-06-06T12:39:24.791042Z",
     "shell.execute_reply": "2023-06-06T12:39:24.790094Z"
    },
    "papermill": {
     "duration": 0.016617,
     "end_time": "2023-06-06T12:39:24.792824",
     "exception": false,
     "start_time": "2023-06-06T12:39:24.776207",
     "status": "completed"
    },
    "tags": []
   },
   "outputs": [],
   "source": [
    "def generateDNNData(basic_data, frameS, offset):\n",
    "    \"\"\"\n",
    "    A function to create 1D-DNN features for training the model\n",
    "    \"\"\"\n",
    "    CorpusPath = \"/kaggle/input/datagtzan-music-speech-collection/Files/\"\n",
    "    Corpusfiles = basic_data['Filename'].values\n",
    "    spectrumData = np.empty((0, frameS), int)\n",
    "    spectrumCol = ['S'+str(i) for i in range(frameS)]\n",
    "    i = 0\n",
    "    Fcol = []\n",
    "\n",
    "    for file in tqdm(Corpusfiles):\n",
    "        i += 1\n",
    "        x, Fs = librosa.load(CorpusPath+file)\n",
    "        segments = strided_app(x, L=frameS, S=offset)\n",
    "        for _ in range(64):\n",
    "            ids = np.random.randint(10, size=2)\n",
    "            for segment in segments[ids, :]:\n",
    "                Fcol.append(file)\n",
    "                row = np.abs(np.fft.fft(segment))  # 256d vector\n",
    "                spectrumData = np.vstack([spectrumData, row])\n",
    "    spectrumDF = pd.DataFrame(spectrumData, columns=spectrumCol)\n",
    "    spectrumDF['Filename'] = Fcol\n",
    "\n",
    "    master_data = pd.merge(basic_data, spectrumDF, on='Filename')\n",
    "    master_data.to_csv(\"master_data.csv\", index=False)"
   ]
  },
  {
   "cell_type": "code",
   "execution_count": 7,
   "id": "c9290085",
   "metadata": {
    "execution": {
     "iopub.execute_input": "2023-06-06T12:39:24.808834Z",
     "iopub.status.busy": "2023-06-06T12:39:24.806904Z",
     "iopub.status.idle": "2023-06-06T12:40:31.551738Z",
     "shell.execute_reply": "2023-06-06T12:40:31.550724Z"
    },
    "papermill": {
     "duration": 66.755108,
     "end_time": "2023-06-06T12:40:31.554026",
     "exception": false,
     "start_time": "2023-06-06T12:39:24.798918",
     "status": "completed"
    },
    "tags": []
   },
   "outputs": [
    {
     "name": "stderr",
     "output_type": "stream",
     "text": [
      "100%|██████████| 128/128 [01:01<00:00,  2.07it/s]\n"
     ]
    }
   ],
   "source": [
    "generateDNNData(basic_data, frameS=256, offset=64)"
   ]
  },
  {
   "cell_type": "code",
   "execution_count": 8,
   "id": "3d091135",
   "metadata": {
    "execution": {
     "iopub.execute_input": "2023-06-06T12:40:31.579358Z",
     "iopub.status.busy": "2023-06-06T12:40:31.578979Z",
     "iopub.status.idle": "2023-06-06T12:40:32.243725Z",
     "shell.execute_reply": "2023-06-06T12:40:32.242555Z"
    },
    "papermill": {
     "duration": 0.679911,
     "end_time": "2023-06-06T12:40:32.245806",
     "exception": false,
     "start_time": "2023-06-06T12:40:31.565895",
     "status": "completed"
    },
    "tags": []
   },
   "outputs": [],
   "source": [
    "data = pd.read_csv(\"master_data.csv\").dropna()\n",
    "data = data.replace({'Speech': 0, 'Music': 1})\n",
    "X = data.drop(['Filename', 'Label'], axis=1).values\n",
    "y = data.loc[:, ['Label']].values"
   ]
  },
  {
   "cell_type": "code",
   "execution_count": 9,
   "id": "7d922ab0",
   "metadata": {
    "execution": {
     "iopub.execute_input": "2023-06-06T12:40:32.270722Z",
     "iopub.status.busy": "2023-06-06T12:40:32.270400Z",
     "iopub.status.idle": "2023-06-06T12:40:32.482367Z",
     "shell.execute_reply": "2023-06-06T12:40:32.480670Z"
    },
    "papermill": {
     "duration": 0.227342,
     "end_time": "2023-06-06T12:40:32.484749",
     "exception": false,
     "start_time": "2023-06-06T12:40:32.257407",
     "status": "completed"
    },
    "tags": []
   },
   "outputs": [],
   "source": [
    "X_train, X_test, y_train, y_test = train_test_split(X,y,test_size=VALIDATION_SIZE,\n",
    "                                                    shuffle=True)"
   ]
  },
  {
   "cell_type": "code",
   "execution_count": 10,
   "id": "bb6677b4",
   "metadata": {
    "execution": {
     "iopub.execute_input": "2023-06-06T12:40:32.512418Z",
     "iopub.status.busy": "2023-06-06T12:40:32.512030Z",
     "iopub.status.idle": "2023-06-06T12:40:32.523148Z",
     "shell.execute_reply": "2023-06-06T12:40:32.521705Z"
    },
    "papermill": {
     "duration": 0.027894,
     "end_time": "2023-06-06T12:40:32.525485",
     "exception": false,
     "start_time": "2023-06-06T12:40:32.497591",
     "status": "completed"
    },
    "tags": []
   },
   "outputs": [],
   "source": [
    "def myDNN(in_shape):\n",
    "    \"\"\"\n",
    "    A function to create a Deep Neural Network model with custom \n",
    "    architecture for speech-music classification\n",
    "    \"\"\"\n",
    "    model = Sequential()\n",
    "\n",
    "    model.add(Dense(32, activation='relu', input_shape=in_shape))\n",
    "\n",
    "    model.add(Dense(64, activation='relu', input_shape=in_shape))\n",
    "\n",
    "    model.add(Dense(128, kernel_initializer=RandomUniform(minval=-0.05,\n",
    "                    maxval=0.05), kernel_regularizer=l2(0.001),\n",
    "                    activation='relu'))\n",
    "\n",
    "    model.add(Dense(256, kernel_initializer=RandomUniform(minval=-0.05,\n",
    "                    maxval=0.05), kernel_regularizer=l2(0.001), \n",
    "                    activation='relu'))\n",
    "\n",
    "    model.add(Dense(512, kernel_initializer=RandomUniform(minval=-0.05,\n",
    "                    maxval=0.05), kernel_regularizer=l2(0.001), \n",
    "                    activation='relu'))\n",
    "\n",
    "    model.add(Dense(256, activation='relu', kernel_regularizer=l2(0.001)))\n",
    "\n",
    "    model.add(Dense(128, activation='relu', kernel_regularizer=l2(0.001)))\n",
    "\n",
    "    model.add(tf.keras.layers.Dropout(0.5))\n",
    "\n",
    "    model.add(Dense(64, activation='relu', kernel_regularizer=l2(0.001)))\n",
    "\n",
    "    model.add(Dense(NUM_CLASSES, kernel_initializer=RandomUniform(minval=-0.05,\n",
    "                    maxval=0.05), kernel_regularizer=l2(0.001),\n",
    "                    activation='softmax'))\n",
    "\n",
    "    model.compile(optimizer='Adam',\n",
    "                  loss='sparse_categorical_crossentropy', metrics=['accuracy'])\n",
    "    return model"
   ]
  },
  {
   "cell_type": "code",
   "execution_count": 11,
   "id": "80ddd2c5",
   "metadata": {
    "execution": {
     "iopub.execute_input": "2023-06-06T12:40:32.551336Z",
     "iopub.status.busy": "2023-06-06T12:40:32.550849Z",
     "iopub.status.idle": "2023-06-06T12:40:32.851453Z",
     "shell.execute_reply": "2023-06-06T12:40:32.850141Z"
    },
    "papermill": {
     "duration": 0.316165,
     "end_time": "2023-06-06T12:40:32.853797",
     "exception": false,
     "start_time": "2023-06-06T12:40:32.537632",
     "status": "completed"
    },
    "tags": []
   },
   "outputs": [],
   "source": [
    "dnn_model = myDNN(X_train[0].shape)"
   ]
  },
  {
   "cell_type": "code",
   "execution_count": 12,
   "id": "a9b88180",
   "metadata": {
    "execution": {
     "iopub.execute_input": "2023-06-06T12:40:32.878940Z",
     "iopub.status.busy": "2023-06-06T12:40:32.878596Z",
     "iopub.status.idle": "2023-06-06T12:40:32.884707Z",
     "shell.execute_reply": "2023-06-06T12:40:32.883521Z"
    },
    "papermill": {
     "duration": 0.021636,
     "end_time": "2023-06-06T12:40:32.887259",
     "exception": false,
     "start_time": "2023-06-06T12:40:32.865623",
     "status": "completed"
    },
    "tags": []
   },
   "outputs": [],
   "source": [
    "class EarlyStopper(Callback):\n",
    "    \"\"\"\n",
    "    A class for early stopper callback for validation accuracy\n",
    "    \"\"\"\n",
    "    def __init__(self, target):\n",
    "        super(EarlyStopper, self).__init__()\n",
    "        self.target = target\n",
    "\n",
    "    def on_epoch_end(self, epoch, logs={}):\n",
    "        acc = logs['val_accuracy']\n",
    "        if acc >= self.target:\n",
    "            self.model.stop_training = True"
   ]
  },
  {
   "cell_type": "code",
   "execution_count": 13,
   "id": "b842bd94",
   "metadata": {
    "execution": {
     "iopub.execute_input": "2023-06-06T12:40:32.913033Z",
     "iopub.status.busy": "2023-06-06T12:40:32.912370Z",
     "iopub.status.idle": "2023-06-06T12:40:32.918551Z",
     "shell.execute_reply": "2023-06-06T12:40:32.917169Z"
    },
    "papermill": {
     "duration": 0.021431,
     "end_time": "2023-06-06T12:40:32.920750",
     "exception": false,
     "start_time": "2023-06-06T12:40:32.899319",
     "status": "completed"
    },
    "tags": []
   },
   "outputs": [],
   "source": [
    "class microf1_callback(Callback):\n",
    "    def __init__(self,validation_data):\n",
    "        self.x_test = validation_data[0]\n",
    "        self.y_test= validation_data[1]\n",
    "    \n",
    "    def on_epoch_end(self, epoch, logs):\n",
    "        ypred = self.model.predict(self.x_test)\n",
    "        ylabel_pred = np.argmax(ypred, axis=1)\n",
    "        y_test_arg = self.y_test\n",
    "        score = f1_score(y_test_arg, ylabel_pred, average=\"binary\")\n",
    "        print(' validation f1-score : ', np.round(score, 4))"
   ]
  },
  {
   "cell_type": "code",
   "execution_count": 14,
   "id": "78de199f",
   "metadata": {
    "execution": {
     "iopub.execute_input": "2023-06-06T12:40:32.946994Z",
     "iopub.status.busy": "2023-06-06T12:40:32.946610Z",
     "iopub.status.idle": "2023-06-06T12:40:32.952434Z",
     "shell.execute_reply": "2023-06-06T12:40:32.951481Z"
    },
    "papermill": {
     "duration": 0.021766,
     "end_time": "2023-06-06T12:40:32.954797",
     "exception": false,
     "start_time": "2023-06-06T12:40:32.933031",
     "status": "completed"
    },
    "tags": []
   },
   "outputs": [],
   "source": [
    "file_path = \"dnn_best_model.hdf5\"\n",
    "checkpoint_callback_1 = ModelCheckpoint(filepath=file_path,\n",
    "                                      monitor=\"val_accuracy\",\n",
    "                                      verbose=1,\n",
    "                                      save_best_only=True,\n",
    "                                      mode=\"auto\")\n",
    "\n",
    "early_stopper_callback = EarlyStopper(ACCURACY_THRESHOLD)\n",
    "f1_history_1 = microf1_callback(validation_data=(X_test, y_test))\n",
    "\n",
    "log_dir_1 = join(\"logs\", \"fits\", \"dnn_model\")\n",
    "tensorboard_callback_1 = TensorBoard(log_dir=log_dir_1, \n",
    "                                     histogram_freq=1,\n",
    "                                     write_graph=True)"
   ]
  },
  {
   "cell_type": "code",
   "execution_count": 15,
   "id": "38ab3db7",
   "metadata": {
    "execution": {
     "iopub.execute_input": "2023-06-06T12:40:32.980456Z",
     "iopub.status.busy": "2023-06-06T12:40:32.980060Z",
     "iopub.status.idle": "2023-06-06T12:40:32.988590Z",
     "shell.execute_reply": "2023-06-06T12:40:32.987152Z"
    },
    "papermill": {
     "duration": 0.0243,
     "end_time": "2023-06-06T12:40:32.991261",
     "exception": false,
     "start_time": "2023-06-06T12:40:32.966961",
     "status": "completed"
    },
    "tags": []
   },
   "outputs": [],
   "source": [
    "adam_optimizer_1 = Adam(learning_rate=LEARNING_RATE)"
   ]
  },
  {
   "cell_type": "code",
   "execution_count": 16,
   "id": "b1d3471a",
   "metadata": {
    "execution": {
     "iopub.execute_input": "2023-06-06T12:40:33.016294Z",
     "iopub.status.busy": "2023-06-06T12:40:33.015951Z",
     "iopub.status.idle": "2023-06-06T12:40:33.024892Z",
     "shell.execute_reply": "2023-06-06T12:40:33.023747Z"
    },
    "papermill": {
     "duration": 0.024007,
     "end_time": "2023-06-06T12:40:33.027143",
     "exception": false,
     "start_time": "2023-06-06T12:40:33.003136",
     "status": "completed"
    },
    "tags": []
   },
   "outputs": [],
   "source": [
    "dnn_model.compile(optimizer=adam_optimizer_1,\n",
    "                  loss='sparse_categorical_crossentropy', \n",
    "                  metrics=['accuracy'])"
   ]
  },
  {
   "cell_type": "code",
   "execution_count": 17,
   "id": "aa180b11",
   "metadata": {
    "execution": {
     "iopub.execute_input": "2023-06-06T12:40:33.052843Z",
     "iopub.status.busy": "2023-06-06T12:40:33.052399Z",
     "iopub.status.idle": "2023-06-06T12:40:43.062791Z",
     "shell.execute_reply": "2023-06-06T12:40:43.061247Z"
    },
    "papermill": {
     "duration": 10.026275,
     "end_time": "2023-06-06T12:40:43.065489",
     "exception": false,
     "start_time": "2023-06-06T12:40:33.039214",
     "status": "completed"
    },
    "tags": []
   },
   "outputs": [
    {
     "name": "stdout",
     "output_type": "stream",
     "text": [
      "Epoch 1/20\n",
      "190/192 [============================>.] - ETA: 0s - loss: 0.6480 - accuracy: 0.7394\n",
      "Epoch 1: val_accuracy improved from -inf to 0.91016, saving model to dnn_best_model.hdf5\n",
      "192/192 [==============================] - 4s 12ms/step - loss: 0.6443 - accuracy: 0.7410 - val_loss: 0.2778 - val_accuracy: 0.9102\n",
      "Epoch 2/20\n",
      "186/192 [============================>.] - ETA: 0s - loss: 0.1814 - accuracy: 0.9482\n",
      "Epoch 2: val_accuracy improved from 0.91016 to 0.97778, saving model to dnn_best_model.hdf5\n",
      "192/192 [==============================] - 2s 10ms/step - loss: 0.1806 - accuracy: 0.9484 - val_loss: 0.1061 - val_accuracy: 0.9778\n",
      "Epoch 3/20\n",
      "192/192 [==============================] - ETA: 0s - loss: 0.0950 - accuracy: 0.9810\n",
      "Epoch 3: val_accuracy improved from 0.97778 to 0.98242, saving model to dnn_best_model.hdf5\n",
      "192/192 [==============================] - 2s 10ms/step - loss: 0.0950 - accuracy: 0.9810 - val_loss: 0.0813 - val_accuracy: 0.9824\n",
      "Epoch 4/20\n",
      "191/192 [============================>.] - ETA: 0s - loss: 0.0693 - accuracy: 0.9892\n",
      "Epoch 4: val_accuracy improved from 0.98242 to 0.99683, saving model to dnn_best_model.hdf5\n",
      "192/192 [==============================] - 2s 10ms/step - loss: 0.0692 - accuracy: 0.9892 - val_loss: 0.0465 - val_accuracy: 0.9968\n"
     ]
    }
   ],
   "source": [
    "history_1 = dnn_model.fit(x=X_train, \n",
    "                          y=y_train, \n",
    "                          batch_size=BATCH_SIZE,\n",
    "                          epochs=EPOCHS,\n",
    "                          steps_per_epoch=int(np.ceil(X_train.shape[0]/BATCH_SIZE)),\n",
    "                          validation_data=(X_test, y_test),\n",
    "                          callbacks=[checkpoint_callback_1, \n",
    "                                     early_stopper_callback,\n",
    "                                     tensorboard_callback_1])"
   ]
  },
  {
   "cell_type": "code",
   "execution_count": 18,
   "id": "1b2500c9",
   "metadata": {
    "execution": {
     "iopub.execute_input": "2023-06-06T12:40:43.105835Z",
     "iopub.status.busy": "2023-06-06T12:40:43.105472Z",
     "iopub.status.idle": "2023-06-06T12:40:43.480361Z",
     "shell.execute_reply": "2023-06-06T12:40:43.479543Z"
    },
    "papermill": {
     "duration": 0.396782,
     "end_time": "2023-06-06T12:40:43.482053",
     "exception": false,
     "start_time": "2023-06-06T12:40:43.085271",
     "status": "completed"
    },
    "tags": []
   },
   "outputs": [
    {
     "data": {
      "image/png": "[encoded data removed]",
      "text/plain": [
       "<Figure size 1000x800 with 2 Axes>"
      ]
     },
     "metadata": {},
     "output_type": "display_data"
    }
   ],
   "source": [
    "plt.figure(figsize=(10, 8))\n",
    "plt.subplot(211) \n",
    "plt.plot(history_1.history[\"accuracy\"])\n",
    "plt.plot(history_1.history[\"val_accuracy\"])\n",
    "plt.ylabel(\"Accuracy\")\n",
    "plt.xlabel(\"Epochs\")\n",
    "plt.legend([\"Train\", \"Validation\"], loc=\"lower right\")\n",
    "\n",
    "plt.subplot(212) \n",
    "plt.plot(history_1.history['loss'], label='Train')\n",
    "plt.plot(history_1.history['val_loss'], label='Test')\n",
    "plt.ylabel('Loss')\n",
    "plt.xlabel('Epoch')\n",
    "plt.legend([\"Train\", \"Validation\"], loc=\"upper right\")\n",
    "plt.show()"
   ]
  },
  {
   "cell_type": "code",
   "execution_count": 19,
   "id": "d975e09f",
   "metadata": {
    "execution": {
     "iopub.execute_input": "2023-06-06T12:40:43.524829Z",
     "iopub.status.busy": "2023-06-06T12:40:43.523734Z",
     "iopub.status.idle": "2023-06-06T12:40:43.529372Z",
     "shell.execute_reply": "2023-06-06T12:40:43.528141Z"
    },
    "papermill": {
     "duration": 0.030963,
     "end_time": "2023-06-06T12:40:43.532317",
     "exception": false,
     "start_time": "2023-06-06T12:40:43.501354",
     "status": "completed"
    },
    "tags": []
   },
   "outputs": [],
   "source": [
    "output_table = PrettyTable([\"Model\",\"Accuracy\", \"Precision\", \"Recall\", \"F1-score\"])"
   ]
  },
  {
   "cell_type": "code",
   "execution_count": 20,
   "id": "5b21fd2e",
   "metadata": {
    "execution": {
     "iopub.execute_input": "2023-06-06T12:40:43.573743Z",
     "iopub.status.busy": "2023-06-06T12:40:43.573408Z",
     "iopub.status.idle": "2023-06-06T12:40:43.580487Z",
     "shell.execute_reply": "2023-06-06T12:40:43.579269Z"
    },
    "papermill": {
     "duration": 0.030247,
     "end_time": "2023-06-06T12:40:43.582514",
     "exception": false,
     "start_time": "2023-06-06T12:40:43.552267",
     "status": "completed"
    },
    "tags": []
   },
   "outputs": [],
   "source": [
    "def predict_with_model(model, X_test, y_test):\n",
    "    \"\"\"Function to return train and test scores \"\"\"\n",
    "    \n",
    "    y_test_pred = model.predict(X_test)\n",
    "    y_test_pred  = np.argmax(y_test_pred, axis=1)\n",
    "    \n",
    "    test_acc = np.round(accuracy_score(y_test, y_test_pred),4)\n",
    "    conf_matrix = np.round(confusion_matrix(y_test, y_test_pred),4)\n",
    "    precision = np.round(precision_score(y_test, y_test_pred, average='binary'),4)\n",
    "    recall = np.round(recall_score(y_test, y_test_pred, average='binary'),4)\n",
    "    f1score = np.round(f1_score(y_test, y_test_pred, average='binary'),4)\n",
    "    \n",
    "    return test_acc, conf_matrix, precision, recall, f1score"
   ]
  },
  {
   "cell_type": "code",
   "execution_count": 21,
   "id": "55cc0f73",
   "metadata": {
    "execution": {
     "iopub.execute_input": "2023-06-06T12:40:43.624060Z",
     "iopub.status.busy": "2023-06-06T12:40:43.623740Z",
     "iopub.status.idle": "2023-06-06T12:40:44.182596Z",
     "shell.execute_reply": "2023-06-06T12:40:44.180791Z"
    },
    "papermill": {
     "duration": 0.583386,
     "end_time": "2023-06-06T12:40:44.185965",
     "exception": false,
     "start_time": "2023-06-06T12:40:43.602579",
     "status": "completed"
    },
    "tags": []
   },
   "outputs": [
    {
     "name": "stdout",
     "output_type": "stream",
     "text": [
      "128/128 [==============================] - 0s 3ms/step\n"
     ]
    }
   ],
   "source": [
    "acc1, cnf1, pre1, recl1, f11 = predict_with_model(dnn_model,\n",
    "                                                  X_test,\n",
    "                                                  y_test)\n",
    "output_table.add_row([\"DNN Model\",acc1, pre1, recl1, f11])"
   ]
  },
  {
   "cell_type": "code",
   "execution_count": 22,
   "id": "6543aaf1",
   "metadata": {
    "execution": {
     "iopub.execute_input": "2023-06-06T12:40:44.228685Z",
     "iopub.status.busy": "2023-06-06T12:40:44.228308Z",
     "iopub.status.idle": "2023-06-06T12:40:44.234011Z",
     "shell.execute_reply": "2023-06-06T12:40:44.233049Z"
    },
    "papermill": {
     "duration": 0.029932,
     "end_time": "2023-06-06T12:40:44.236684",
     "exception": false,
     "start_time": "2023-06-06T12:40:44.206752",
     "status": "completed"
    },
    "tags": []
   },
   "outputs": [
    {
     "name": "stdout",
     "output_type": "stream",
     "text": [
      "+-----------+----------+-----------+--------+----------+\n",
      "|   Model   | Accuracy | Precision | Recall | F1-score |\n",
      "+-----------+----------+-----------+--------+----------+\n",
      "| DNN Model |  0.9968  |   0.9956  | 0.9981 |  0.9968  |\n",
      "+-----------+----------+-----------+--------+----------+\n"
     ]
    }
   ],
   "source": [
    "print(output_table)"
   ]
  },
  {
   "cell_type": "code",
   "execution_count": null,
   "id": "d27fb70e",
   "metadata": {
    "papermill": {
     "duration": 0.021362,
     "end_time": "2023-06-06T12:40:44.279598",
     "exception": false,
     "start_time": "2023-06-06T12:40:44.258236",
     "status": "completed"
    },
    "tags": []
   },
   "outputs": [],
   "source": []
  }
 ],
 "metadata": {
  "kernelspec": {
   "display_name": "Python 3",
   "language": "python",
   "name": "python3"
  },
  "language_info": {
   "codemirror_mode": {
    "name": "ipython",
    "version": 3
   },
   "file_extension": ".py",
   "mimetype": "text/x-python",
   "name": "python",
   "nbconvert_exporter": "python",
   "pygments_lexer": "ipython3",
   "version": "3.10.10"
  },
  "papermill": {
   "default_parameters": {},
   "duration": 104.48449,
   "end_time": "2023-06-06T12:40:46.925313",
   "environment_variables": {},
   "exception": null,
   "input_path": "__notebook__.ipynb",
   "output_path": "__notebook__.ipynb",
   "parameters": {},
   "start_time": "2023-06-06T12:39:02.440823",
   "version": "2.4.0"
  }
 },
 "nbformat": 4,
 "nbformat_minor": 5
}
